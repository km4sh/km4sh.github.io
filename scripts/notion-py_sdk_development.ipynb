{
 "cells": [
  {
   "cell_type": "code",
   "execution_count": 1,
   "id": "super-paraguay",
   "metadata": {},
   "outputs": [],
   "source": [
    "from notion.client import NotionClient\n",
    "import os\n",
    "from slugify import slugify\n",
    "import re\n",
    "import requests\n",
    "import hashlib\n",
    "import shutil\n",
    "import sys"
   ]
  },
  {
   "cell_type": "code",
   "execution_count": 2,
   "id": "unlike-holiday",
   "metadata": {},
   "outputs": [
    {
     "name": "stdout",
     "output_type": "stream",
     "text": [
      "secret_hzLvMMq9u7qjq2uWW7dNTO2wxADvLI068rLkgy19zP1\n",
      "f118ba9458f345009bc4564ac6044536\n"
     ]
    }
   ],
   "source": [
    "NOTION_TOKEN = os.getenv('NOTION_API_KEY')\n",
    "NOTION_DATABASE_ID = os.getenv('NOTION_DATABASE_ID')\n",
    "print(*[NOTION_TOKEN, NOTION_DATABASE_ID], sep='\\n')"
   ]
  },
  {
   "cell_type": "code",
   "execution_count": 7,
   "id": "identical-camping",
   "metadata": {},
   "outputs": [],
   "source": [
    "client = NotionClient(token_v2=\"589261f400c9204910104c135ed8aaea808a6fad6ec95bb986c8adff45a9422f5e1f5a29056248101a27ca83d19c972cb8870aec43e854e441011d4ad1d55246f4c367ffb71db557140e81934e60\")\n",
    "root_page_id = NOTION_DATABASE_ID"
   ]
  },
  {
   "cell_type": "code",
   "execution_count": 8,
   "id": "faced-istanbul",
   "metadata": {
    "tags": []
   },
   "outputs": [],
   "source": [
    "base = client.get_block(url_or_id=\"f118ba9458f345009bc4564ac6044536\")"
   ]
  },
  {
   "cell_type": "code",
   "execution_count": 39,
   "id": "expanded-stuart",
   "metadata": {},
   "outputs": [
    {
     "name": "stdout",
     "output_type": "stream",
     "text": [
      "-> Get the database: f118ba94-58f3-4500-9bc4-564ac6044536\n",
      "-> Now, processing the page: [            Catalyst：基於PyTorch的深度學習研發催化劑            ]\n",
      "   id: [ d18bf97a6d1f4e9d86d60f6577c34eeb ]\n"
     ]
    }
   ],
   "source": [
    "if 'collection' in base.type:\n",
    "    print('-> Get the database: {}'.format(base.id))\n",
    "    for row in base.collection.get_rows():\n",
    "        page = client.get_block(url_or_id=row.id)\n",
    "        print('-> Now, processing the page: [ {:^50s} ]'.format(page.name))\n",
    "        print('   id: [ {:^30s} ]'.format(page.id.replace(\"-\", \"\")))\n",
    "        page = client.get_block(\"d18bf97a-6d1f-4e9d-86d6-0f6577c34eeb\")\n",
    "        page.children"
   ]
  },
  {
   "cell_type": "code",
   "execution_count": 67,
   "id": "acknowledged-liberty",
   "metadata": {},
   "outputs": [
    {
     "data": {
      "text/plain": [
       "'page'"
      ]
     },
     "execution_count": 67,
     "metadata": {},
     "output_type": "execute_result"
    }
   ],
   "source": [
    "page = client.get_block(\"d18bf97a-6d1f-4e9d-86d6-0f6577c34eeb\")\n",
    "page.type"
   ]
  }
 ],
 "metadata": {
  "kernelspec": {
   "display_name": "Python 3",
   "language": "python",
   "name": "python3"
  },
  "language_info": {
   "codemirror_mode": {
    "name": "ipython",
    "version": 3
   },
   "file_extension": ".py",
   "mimetype": "text/x-python",
   "name": "python",
   "nbconvert_exporter": "python",
   "pygments_lexer": "ipython3",
   "version": "3.8.8"
  }
 },
 "nbformat": 4,
 "nbformat_minor": 5
}
